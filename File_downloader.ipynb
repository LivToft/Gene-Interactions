{
 "cells": [
  {
   "cell_type": "code",
   "execution_count": null,
   "metadata": {},
   "outputs": [],
   "source": [
    "# pip install selenium"
   ]
  },
  {
   "cell_type": "code",
   "execution_count": 1,
   "metadata": {},
   "outputs": [
    {
     "name": "stderr",
     "output_type": "stream",
     "text": [
      "<frozen importlib._bootstrap>:228: RuntimeWarning: scipy._lib.messagestream.MessageStream size changed, may indicate binary incompatibility. Expected 56 from C header, got 64 from PyObject\n"
     ]
    }
   ],
   "source": [
    "import pandas as pd\n",
    "from scipy.stats import pearsonr"
   ]
  },
  {
   "cell_type": "code",
   "execution_count": 2,
   "metadata": {},
   "outputs": [],
   "source": [
    "from selenium import webdriver\n",
    "from selenium.webdriver.common.by import By\n",
    "from selenium.webdriver.chrome.options import Options\n",
    "from selenium.webdriver.chrome.service import Service\n",
    "from webdriver_manager.chrome import ChromeDriverManager\n",
    "import time\n",
    "\n",
    "import os"
   ]
  },
  {
   "cell_type": "markdown",
   "metadata": {},
   "source": [
    "## Get SCLC and EMT genes"
   ]
  },
  {
   "cell_type": "code",
   "execution_count": 3,
   "metadata": {},
   "outputs": [],
   "source": [
    "SCLC_genes = {'AGER', 'SFTPC', 'GSTA1', 'CYP2B7P', 'AQP4', 'CLDN18', 'C4BPA', 'ADH1B', 'LRRK2', 'MSMB',\n",
    "             'TMSB15B', 'BEX1', 'DLK1', 'TOP2A', 'ASCL1', 'HIST1H3C', 'HIST1H3B', 'DCX', 'TUBB2B', 'HIST1H3I',\n",
    "              'FLI1', 'TCF4' 'TCF3', 'ELF3', 'NR0B1', 'NEUROD2', 'SOX11', 'TEAD4', 'REST', 'MITF', 'SIX5',\n",
    "              'ZNF217', 'FOXA1', 'FOXA2', 'SMAD4', 'OLIG2', 'FLI1', 'SMAD4', 'GATA4', 'ISL1', 'SYP', 'CHGA',\n",
    "              'INSM1', 'NEUROD1', 'POU2F3', 'YAP1', 'MYC', 'MYCL', 'MYCN'\n",
    "             }\n",
    "\n",
    "# EMT genes that are differentially expressed across they 5 subtypes\n",
    "EMT_gene_expr = pd.read_csv('Data/ANOVA_filtered_EMT_gene_expr.csv')\n",
    "EMT_gene_expr.set_index('Gene', inplace=True)\n",
    "\n",
    "EMT_genes = set(EMT_gene_expr.index)\n",
    "\n",
    "\n",
    "SCLC_EMT_genes = SCLC_genes.union(EMT_genes)"
   ]
  },
  {
   "cell_type": "markdown",
   "metadata": {},
   "source": [
    "## Function to parse through Harmonizome and get associations"
   ]
  },
  {
   "cell_type": "code",
   "execution_count": 9,
   "metadata": {},
   "outputs": [],
   "source": [
    "def get_targets(get, pause):\n",
    "    # SCLC/EMT gene with associations identified\n",
    "    added = []\n",
    "    \n",
    "    # SCLC/EMT gene with no associations identified\n",
    "    no_data = []\n",
    "    \n",
    "    for gene in get:\n",
    "\n",
    "        # Get url\n",
    "        url = 'https://maayanlab.cloud/Harmonizome/gene/' + gene\n",
    "\n",
    "        try:\n",
    "            options = Options()\n",
    "\n",
    "            # Change </Path/Data/EMT_SCLC_Targets> to desired file download location\n",
    "            prefs = {'download.default_directory' : '</Path/Data/EMT_SCLC_Targets>'}\n",
    "            options.add_experimental_option('prefs', prefs)\n",
    "\n",
    "            driver = webdriver.Chrome(service=Service(ChromeDriverManager().install()), options=options)\n",
    "            driver.get(url)\n",
    "\n",
    "            # Identify Download Associations button\n",
    "            download = driver.find_element(By.CSS_SELECTOR, \"button.glyphicon-download-alt\");\n",
    "            \n",
    "            # Click and download file\n",
    "            download.click()\n",
    "            \n",
    "            # Allow time for file to download\n",
    "            time.sleep(pause)\n",
    "\n",
    "            driver.quit()\n",
    "\n",
    "            added.append(gene)\n",
    "\n",
    "        except:\n",
    "            no_data.append(gene)\n",
    "            \n",
    "    return(added, no_data)"
   ]
  },
  {
   "cell_type": "code",
   "execution_count": 10,
   "metadata": {},
   "outputs": [
    {
     "name": "stdout",
     "output_type": "stream",
     "text": [
      "\n"
     ]
    },
    {
     "name": "stderr",
     "output_type": "stream",
     "text": [
      "[WDM] - ====== WebDriver manager ======\n",
      "[WDM] - Current google-chrome version is 103.0.5060\n",
      "[WDM] - Get LATEST chromedriver version for 103.0.5060 google-chrome\n",
      "[WDM] - Driver [/Users/livtoft/.wdm/drivers/chromedriver/mac64/103.0.5060.53/chromedriver] found in cache\n"
     ]
    },
    {
     "name": "stdout",
     "output_type": "stream",
     "text": [
      "\n"
     ]
    },
    {
     "name": "stderr",
     "output_type": "stream",
     "text": [
      "[WDM] - ====== WebDriver manager ======\n",
      "[WDM] - Current google-chrome version is 103.0.5060\n",
      "[WDM] - Get LATEST chromedriver version for 103.0.5060 google-chrome\n",
      "[WDM] - Driver [/Users/livtoft/.wdm/drivers/chromedriver/mac64/103.0.5060.53/chromedriver] found in cache\n"
     ]
    },
    {
     "name": "stdout",
     "output_type": "stream",
     "text": [
      "\n"
     ]
    },
    {
     "name": "stderr",
     "output_type": "stream",
     "text": [
      "[WDM] - ====== WebDriver manager ======\n",
      "[WDM] - Current google-chrome version is 103.0.5060\n",
      "[WDM] - Get LATEST chromedriver version for 103.0.5060 google-chrome\n",
      "[WDM] - Driver [/Users/livtoft/.wdm/drivers/chromedriver/mac64/103.0.5060.53/chromedriver] found in cache\n"
     ]
    },
    {
     "name": "stdout",
     "output_type": "stream",
     "text": [
      "\n"
     ]
    },
    {
     "name": "stderr",
     "output_type": "stream",
     "text": [
      "[WDM] - ====== WebDriver manager ======\n",
      "[WDM] - Current google-chrome version is 103.0.5060\n",
      "[WDM] - Get LATEST chromedriver version for 103.0.5060 google-chrome\n",
      "[WDM] - Driver [/Users/livtoft/.wdm/drivers/chromedriver/mac64/103.0.5060.53/chromedriver] found in cache\n"
     ]
    },
    {
     "name": "stdout",
     "output_type": "stream",
     "text": [
      "Added regulations of 4 SCLC/EMT genes\n",
      "No regulation info of 0 SCLC/EMT genes\n"
     ]
    }
   ],
   "source": [
    "# Download associations for all SCLC/EMT genes with 8 seconds of pause for file to download\n",
    "no_data = SCLC_EMT_genes\n",
    "\n",
    "while len(no_data) > 0:\n",
    "    added, no_data = get_targets(no_data, 8)\n",
    "    print('\\nAdded regulations of', len(added), 'SCLC/EMT genes')\n",
    "    print('No regulation info of', len(no_data), 'SCLC/EMT genes')"
   ]
  },
  {
   "cell_type": "markdown",
   "metadata": {},
   "source": [
    "## Function to retrieve associations that failed to download"
   ]
  },
  {
   "cell_type": "code",
   "execution_count": 11,
   "metadata": {},
   "outputs": [],
   "source": [
    "def get_failed_downloads():\n",
    "    # Get the directory\n",
    "    directory = os.fsencode('Data/EMT_SCLC_Targets')\n",
    "    failed = []\n",
    "\n",
    "    # Iterate through all files\n",
    "    for file in os.listdir(directory):\n",
    "        filename = os.fsdecode(file)\n",
    "        \n",
    "        # .crdownload files = files which were not given enough time to download\n",
    "        if filename.endswith(\".crdownload\"): \n",
    "            # Get the name of the gene whose associations failed to download\n",
    "            failed.append(filename.split('associations')[0])\n",
    "            \n",
    "            # Remove failed download file\n",
    "            path = 'Data/EMT_SCLC_Targets/' + filename\n",
    "            os.remove(path)\n",
    "    \n",
    "    return(failed)"
   ]
  },
  {
   "cell_type": "code",
   "execution_count": 12,
   "metadata": {},
   "outputs": [
    {
     "name": "stdout",
     "output_type": "stream",
     "text": [
      "failed to download regulations of 2 SCLC/EMT genes\n",
      "increasing download pause to 10 seconds\n",
      "\n"
     ]
    },
    {
     "name": "stderr",
     "output_type": "stream",
     "text": [
      "[WDM] - ====== WebDriver manager ======\n",
      "[WDM] - Current google-chrome version is 103.0.5060\n",
      "[WDM] - Get LATEST chromedriver version for 103.0.5060 google-chrome\n",
      "[WDM] - Driver [/Users/livtoft/.wdm/drivers/chromedriver/mac64/103.0.5060.53/chromedriver] found in cache\n"
     ]
    },
    {
     "name": "stdout",
     "output_type": "stream",
     "text": [
      "\n"
     ]
    },
    {
     "name": "stderr",
     "output_type": "stream",
     "text": [
      "[WDM] - ====== WebDriver manager ======\n",
      "[WDM] - Current google-chrome version is 103.0.5060\n",
      "[WDM] - Get LATEST chromedriver version for 103.0.5060 google-chrome\n",
      "[WDM] - Driver [/Users/livtoft/.wdm/drivers/chromedriver/mac64/103.0.5060.53/chromedriver] found in cache\n"
     ]
    }
   ],
   "source": [
    "# Re-download all failed files\n",
    "\n",
    "failed  = get_failed_downloads()\n",
    "pause = 15\n",
    "\n",
    "while len(failed) > 0:\n",
    "    print('failed to download regulations of', len(failed), 'SCLC/EMT genes')\n",
    "    print('increasing download pause to', pause, 'seconds')\n",
    "    \n",
    "    added, no_data = get_targets(failed, pause)\n",
    "    \n",
    "    pause += 5\n",
    "    failed  = get_failed_downloads()"
   ]
  },
  {
   "cell_type": "code",
   "execution_count": 13,
   "metadata": {},
   "outputs": [
    {
     "data": {
      "text/plain": [
       "260"
      ]
     },
     "execution_count": 13,
     "metadata": {},
     "output_type": "execute_result"
    }
   ],
   "source": [
    "# Number of associations \n",
    "# (should be 260 if all SCLC/EMT genes have association data)\n",
    "len(os.listdir(os.fsencode('Data/EMT_SCLC_targets')))"
   ]
  },
  {
   "cell_type": "markdown",
   "metadata": {},
   "source": [
    "# Determine repression/activation"
   ]
  },
  {
   "cell_type": "code",
   "execution_count": 4,
   "metadata": {},
   "outputs": [],
   "source": [
    "# Get gene expression data\n",
    "gene_expr = pd.read_csv('Data/SCLC_combined_Minna_CCLE.csv')\n",
    "gene_expr.set_index('Unnamed: 0', inplace=True)"
   ]
  },
  {
   "cell_type": "code",
   "execution_count": 5,
   "metadata": {},
   "outputs": [],
   "source": [
    "# Define master dataframe with all associations\n",
    "SCLC_EMT_ENCODE_associations = pd.DataFrame()"
   ]
  },
  {
   "cell_type": "code",
   "execution_count": 6,
   "metadata": {},
   "outputs": [],
   "source": [
    "# UNCOMMENT IF: some SCLC/EMT genes do not have expression data\n",
    "\n",
    "# SCLC_EMT_genes = []\n",
    "# for file in os.listdir(os.fsencode('Data/EMT_SCLC_Targets')):\n",
    "#    filename = os.fsdecode(file)\n",
    "#    gene = filename.split(' ')[0]\n",
    "#    SCLC_EMT_genes.append(gene)"
   ]
  },
  {
   "cell_type": "code",
   "execution_count": 6,
   "metadata": {},
   "outputs": [
    {
     "ename": "KeyboardInterrupt",
     "evalue": "",
     "output_type": "error",
     "traceback": [
      "\u001b[0;31m---------------------------------------------------------------------------\u001b[0m",
      "\u001b[0;31mKeyboardInterrupt\u001b[0m                         Traceback (most recent call last)",
      "Input \u001b[0;32mIn [6]\u001b[0m, in \u001b[0;36m<cell line: 1>\u001b[0;34m()\u001b[0m\n\u001b[1;32m     20\u001b[0m \u001b[38;5;28;01mfor\u001b[39;00m a \u001b[38;5;129;01min\u001b[39;00m assoc\u001b[38;5;241m.\u001b[39mindex:\n\u001b[1;32m     21\u001b[0m     \u001b[38;5;28;01mif\u001b[39;00m a \u001b[38;5;129;01min\u001b[39;00m gene_expr\u001b[38;5;241m.\u001b[39mindex: \n\u001b[1;32m     22\u001b[0m \n\u001b[1;32m     23\u001b[0m         \u001b[38;5;66;03m# Pearson correlation and p value\u001b[39;00m\n\u001b[0;32m---> 24\u001b[0m         corr, p_val \u001b[38;5;241m=\u001b[39m \u001b[43mpearsonr\u001b[49m\u001b[43m(\u001b[49m\u001b[43mgene_expr\u001b[49m\u001b[38;5;241;43m.\u001b[39;49m\u001b[43mloc\u001b[49m\u001b[43m[\u001b[49m\u001b[43ma\u001b[49m\u001b[43m,\u001b[49m\u001b[43m \u001b[49m\u001b[43m:\u001b[49m\u001b[43m]\u001b[49m\u001b[43m,\u001b[49m\u001b[43m \u001b[49m\u001b[43mgene_expr\u001b[49m\u001b[38;5;241;43m.\u001b[39;49m\u001b[43mloc\u001b[49m\u001b[43m[\u001b[49m\u001b[43mgene\u001b[49m\u001b[43m,\u001b[49m\u001b[43m \u001b[49m\u001b[43m:\u001b[49m\u001b[43m]\u001b[49m\u001b[43m)\u001b[49m\n\u001b[1;32m     26\u001b[0m         \u001b[38;5;66;03m# Keep association if expressions are significantly correlated\u001b[39;00m\n\u001b[1;32m     27\u001b[0m         \u001b[38;5;28;01mif\u001b[39;00m p_val \u001b[38;5;241m<\u001b[39m\u001b[38;5;241m=\u001b[39m \u001b[38;5;241m0.05\u001b[39m:\n\u001b[1;32m     28\u001b[0m \n\u001b[1;32m     29\u001b[0m             \u001b[38;5;66;03m# +ve correlation = activation\u001b[39;00m\n",
      "File \u001b[0;32m~/opt/anaconda3/lib/python3.9/site-packages/scipy/stats/stats.py:4039\u001b[0m, in \u001b[0;36mpearsonr\u001b[0;34m(x, y)\u001b[0m\n\u001b[1;32m   4035\u001b[0m ymean \u001b[38;5;241m=\u001b[39m y\u001b[38;5;241m.\u001b[39mmean(dtype\u001b[38;5;241m=\u001b[39mdtype)\n\u001b[1;32m   4037\u001b[0m \u001b[38;5;66;03m# By using `astype(dtype)`, we ensure that the intermediate calculations\u001b[39;00m\n\u001b[1;32m   4038\u001b[0m \u001b[38;5;66;03m# use at least 64 bit floating point.\u001b[39;00m\n\u001b[0;32m-> 4039\u001b[0m xm \u001b[38;5;241m=\u001b[39m \u001b[43mx\u001b[49m\u001b[38;5;241;43m.\u001b[39;49m\u001b[43mastype\u001b[49m\u001b[43m(\u001b[49m\u001b[43mdtype\u001b[49m\u001b[43m)\u001b[49m\u001b[43m \u001b[49m\u001b[38;5;241;43m-\u001b[39;49m\u001b[43m \u001b[49m\u001b[43mxmean\u001b[49m\n\u001b[1;32m   4040\u001b[0m ym \u001b[38;5;241m=\u001b[39m y\u001b[38;5;241m.\u001b[39mastype(dtype) \u001b[38;5;241m-\u001b[39m ymean\n\u001b[1;32m   4042\u001b[0m \u001b[38;5;66;03m# Unlike np.linalg.norm or the expression sqrt((xm*xm).sum()),\u001b[39;00m\n\u001b[1;32m   4043\u001b[0m \u001b[38;5;66;03m# scipy.linalg.norm(xm) does not overflow if xm is, for example,\u001b[39;00m\n\u001b[1;32m   4044\u001b[0m \u001b[38;5;66;03m# [-5e210, 5e210, 3e200, -3e200]\u001b[39;00m\n",
      "\u001b[0;31mKeyboardInterrupt\u001b[0m: "
     ]
    }
   ],
   "source": [
    "for gene in SCLC_EMT_genes:\n",
    "    \n",
    "    if gene in gene_expr.index:\n",
    "        # Get associations from folder\n",
    "        file = 'Data/EMT_SCLC_Targets/' + gene + ' associations.tsv' \n",
    "        assoc = pd.read_csv(file, sep='\\t')\n",
    "\n",
    "        # Get columns of interest\n",
    "        assoc = pd.DataFrame(assoc.iloc[:, :2])\n",
    "        assoc.set_index('association', inplace=True)\n",
    "\n",
    "        # Get associations from ENCODE TF Targets dataset\n",
    "        assoc = assoc.where(assoc['dataset'] == 'ENCODE Transcription Factor Targets').dropna()\n",
    "\n",
    "        # Add associated gene's SCLC/EMT gene target\n",
    "        assoc['target'] = [gene] * len(assoc)\n",
    "\n",
    "\n",
    "        # Get repression/activation\n",
    "        for a in assoc.index:\n",
    "            if a in gene_expr.index: \n",
    "\n",
    "                # Pearson correlation and p value\n",
    "                corr, p_val = pearsonr(gene_expr.loc[a, :], gene_expr.loc[gene, :])\n",
    "\n",
    "                # Keep association if expressions are significantly correlated\n",
    "                if p_val <= 0.05:\n",
    "\n",
    "                    # +ve correlation = activation\n",
    "                    if corr > 0:\n",
    "                        assoc.loc[a, 'repress'] = False\n",
    "\n",
    "                    # -ve correlation = repression\n",
    "                    elif corr < 0:\n",
    "                        assoc.loc[a, 'repress'] = True\n",
    "                else:\n",
    "                    assoc.drop(index=a, inplace=True)\n",
    "\n",
    "            # Don't include associations with no gene expression data\n",
    "            else:\n",
    "                assoc.drop(index=a, inplace=True)\n",
    "\n",
    "\n",
    "        assoc.reset_index(inplace=True)\n",
    "\n",
    "        # Add associations to master dataframe\n",
    "        SCLC_EMT_ENCODE_associations = pd.concat([SCLC_EMT_ENCODE_associations, assoc])"
   ]
  },
  {
   "cell_type": "code",
   "execution_count": 35,
   "metadata": {},
   "outputs": [],
   "source": [
    "SCLC_EMT_ENCODE_associations = SCLC_EMT_ENCODE_associations.reset_index()"
   ]
  },
  {
   "cell_type": "code",
   "execution_count": 36,
   "metadata": {},
   "outputs": [],
   "source": [
    "SCLC_EMT_ENCODE_associations.to_csv('Data/SCLC_EMT_ENCODE_associations.csv')"
   ]
  }
 ],
 "metadata": {
  "kernelspec": {
   "display_name": "Python 3 (ipykernel)",
   "language": "python",
   "name": "python3"
  },
  "language_info": {
   "codemirror_mode": {
    "name": "ipython",
    "version": 3
   },
   "file_extension": ".py",
   "mimetype": "text/x-python",
   "name": "python",
   "nbconvert_exporter": "python",
   "pygments_lexer": "ipython3",
   "version": "3.9.13"
  }
 },
 "nbformat": 4,
 "nbformat_minor": 4
}
